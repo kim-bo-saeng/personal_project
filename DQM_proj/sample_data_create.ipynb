{
 "cells": [
  {
   "cell_type": "code",
   "execution_count": 1,
   "id": "678cf827",
   "metadata": {},
   "outputs": [
    {
     "name": "stdout",
     "output_type": "stream",
     "text": [
      "✅ 샘플 데이터 저장 완료: data/customer_info.csv, data/order_info.csv\n"
     ]
    }
   ],
   "source": [
    "import pandas as pd\n",
    "import os\n",
    "\n",
    "# 데이터 폴더 생성\n",
    "os.makedirs(\"data\", exist_ok=True)\n",
    "\n",
    "# 1. customer_info.csv\n",
    "customer_data = [\n",
    "    {\"customer_id\": \"C001\", \"name\": \"홍길동\", \"age\": 34, \"gender\": \"M\", \"address\": \"서울시 강남구\"},\n",
    "    {\"customer_id\": \"C002\", \"name\": \"이영희\", \"age\": -5, \"gender\": \"F\", \"address\": \"서울시 송파구\"},\n",
    "    {\"customer_id\": \"C003\", \"name\": \"김철수\", \"age\": 28, \"gender\": \"N\", \"address\": None},\n",
    "    {\"customer_id\": \"C004\", \"name\": \"김민지\", \"age\": None, \"gender\": \"F\", \"address\": \"서울시 강북구\"},\n",
    "    {\"customer_id\": \"C005\", \"name\": \"홍길동\", \"age\": 34, \"gender\": \"Male\", \"address\": \"서울시 강남구\"},\n",
    "    {\"customer_id\": \"C006\", \"name\": \"박지훈\", \"age\": 40, \"gender\": \"여성\", \"address\": \"\"},\n",
    "    {\"customer_id\": \"C007\", \"name\": \"최수연\", \"age\": 30, \"gender\": \"\", \"address\": \"서울시 강서구\"},\n",
    "]\n",
    "\n",
    "df_customer = pd.DataFrame(customer_data)\n",
    "df_customer.to_csv(\"data/customer_info.csv\", index=False)\n",
    "\n",
    "# 2. order_info.csv\n",
    "order_data = [\n",
    "    {\"order_id\": \"O1001\", \"customer_id\": \"C001\", \"product_name\": \"노트북\", \"quantity\": 1, \"price\": 1200000, \"status\": \"배송완료\"},\n",
    "    {\"order_id\": \"O1002\", \"customer_id\": \"C002\", \"product_name\": \"마우스\", \"quantity\": 2, \"price\": None, \"status\": \"배송완료\"},\n",
    "    {\"order_id\": \"O1003\", \"customer_id\": \"C003\", \"product_name\": \"키보드\", \"quantity\": None, \"price\": 50000, \"status\": \"완료\"},\n",
    "    {\"order_id\": \"O1004\", \"customer_id\": \"C999\", \"product_name\": \"모니터\", \"quantity\": -1, \"price\": 300000, \"status\": \"배송취소\"},\n",
    "    {\"order_id\": \"O1005\", \"customer_id\": \"C004\", \"product_name\": \"프린터\", \"quantity\": 1, \"price\": 0, \"status\": \"Cancelled\"},\n",
    "    {\"order_id\": \"O1006\", \"customer_id\": \"C005\", \"product_name\": \"노트북\", \"quantity\": 1, \"price\": 1300000, \"status\": \"배송중\"},\n",
    "]\n",
    "\n",
    "df_order = pd.DataFrame(order_data)\n",
    "df_order.to_csv(\"data/order_info.csv\", index=False)\n",
    "\n",
    "print(\"✅ 샘플 데이터 저장 완료: data/customer_info.csv, data/order_info.csv\")"
   ]
  },
  {
   "cell_type": "code",
   "execution_count": null,
   "id": "a92ffaee",
   "metadata": {},
   "outputs": [],
   "source": [
    "project/\n",
    "├── data/                       ← CSV 저장 위치\n",
    "│   ├── customer_info.csv\n",
    "│   └── order_info.csv\n",
    "├── src/                        ← 기능별 모듈\n",
    "│   ├── detect_outliers.py      ← 이상치 탐지\n",
    "│   ├── impute_missing.py       ← 결측값 보정\n",
    "│   ├── standardize_domain.py   ← 코드 표준화\n",
    "│   └── infer_meta.py           ← 메타 결측 보정\n",
    "└── notebook/\n",
    "    └── EDA_test.ipynb          ← 테스트용 주피터 노트북"
   ]
  },
  {
   "cell_type": "code",
   "execution_count": 3,
   "id": "73b9aa1e",
   "metadata": {},
   "outputs": [
    {
     "name": "stdout",
     "output_type": "stream",
     "text": [
      "✅ employees.csv와 orders.csv 파일이 생성되었습니다.\n"
     ]
    }
   ],
   "source": [
    "import pandas as pd\n",
    "import random\n",
    "from faker import Faker\n",
    "\n",
    "fake = Faker()\n",
    "\n",
    "# 직원 테이블 데이터 생성\n",
    "def generate_employees(n=1000):\n",
    "    employees = []\n",
    "    for i in range(1, n + 1):\n",
    "        employees.append({\n",
    "            'id': i,\n",
    "            'name': fake.name(),\n",
    "            'position': random.choice(['Developer', 'Manager', 'Analyst', 'Sales', 'HR']),\n",
    "            'salary': round(random.uniform(30000, 120000), 2),\n",
    "            'hire_date': fake.date_between(start_date='-10y', end_date='today')\n",
    "        })\n",
    "    return pd.DataFrame(employees)\n",
    "\n",
    "# 주문 테이블 데이터 생성\n",
    "def generate_orders(n=1000, employee_ids=None):\n",
    "    orders = []\n",
    "    for i in range(1, n + 1):\n",
    "        orders.append({\n",
    "            'order_id': i,\n",
    "            'customer_id': random.randint(1000, 2000),\n",
    "            'product_name': random.choice(['Laptop', 'Phone', 'Monitor', 'Keyboard', 'Mouse']),\n",
    "            'quantity': random.randint(1, 10),\n",
    "            'order_date': fake.date_time_between(start_date='-2y', end_date='now')\n",
    "        })\n",
    "    return pd.DataFrame(orders)\n",
    "\n",
    "# CSV 파일로 저장\n",
    "employees_df = generate_employees()\n",
    "orders_df = generate_orders()\n",
    "\n",
    "employees_df.to_csv('employees.csv', index=False)\n",
    "orders_df.to_csv('orders.csv', index=False)\n",
    "\n",
    "print(\"✅ employees.csv와 orders.csv 파일이 생성되었습니다.\")"
   ]
  },
  {
   "cell_type": "code",
   "execution_count": null,
   "id": "566b6b2b",
   "metadata": {},
   "outputs": [],
   "source": []
  }
 ],
 "metadata": {
  "kernelspec": {
   "display_name": "base",
   "language": "python",
   "name": "python3"
  },
  "language_info": {
   "codemirror_mode": {
    "name": "ipython",
    "version": 3
   },
   "file_extension": ".py",
   "mimetype": "text/x-python",
   "name": "python",
   "nbconvert_exporter": "python",
   "pygments_lexer": "ipython3",
   "version": "3.11.10"
  }
 },
 "nbformat": 4,
 "nbformat_minor": 5
}
