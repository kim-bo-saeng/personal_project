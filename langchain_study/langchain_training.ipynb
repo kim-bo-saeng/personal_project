{
 "cells": [
  {
   "cell_type": "code",
   "execution_count": null,
   "id": "93221f8f",
   "metadata": {},
   "outputs": [],
   "source": [
    "#로컬에 설치한 AgensGraph를 python으로 접근하여 테이블 데이터 생성하기기\n",
    "import psycopg2\n",
    "from faker import Faker\n",
    "import random\n",
    "from datetime import timedelta\n",
    "\n",
    "# PostgreSQL 연결 정보\n",
    "conn = psycopg2.connect(\n",
    "    dbname=\"agens\",\n",
    "    user=\"postgres\",\n",
    "    password=\"agens\",\n",
    "    host=\"localhost\",\n",
    "    port=\"5455\"\n",
    ")\n",
    "\n",
    "cur = conn.cursor()\n",
    "faker = Faker()\n",
    "\n",
    "# 가상 데이터 생성\n",
    "transaction_types = ['deposit', 'withdrawal', 'transfer']\n",
    "\n",
    "for _ in range(1000):\n",
    "    account_id = random.randint(1, 100)  # 예시: 계좌 ID가 1~100 사이 있다고 가정\n",
    "    transaction_type = random.choice(transaction_types)\n",
    "    amount = round(random.uniform(10.00, 10000.00), 2)\n",
    "    transaction_date = faker.date_time_between(start_date='-1y', end_date='now')\n",
    "    description = faker.sentence(nb_words=6)\n",
    "\n",
    "    cur.execute(\"\"\"\n",
    "        INSERT INTO transactions (account_id, transaction_type, amount, transaction_date, description)\n",
    "        VALUES (%s, %s, %s, %s, %s)\n",
    "    \"\"\", (account_id, transaction_type, amount, transaction_date, description))\n",
    "\n",
    "# 커밋 및 종료\n",
    "conn.commit()\n",
    "cur.close()\n",
    "conn.close()\n",
    "\n",
    "print(\"1000개의 거래 데이터가 삽입되었습니다.\")"
   ]
  },
  {
   "cell_type": "code",
   "execution_count": 1,
   "id": "83b778a1",
   "metadata": {},
   "outputs": [],
   "source": [
    "# 랭채인에 있는 오픈AI 라이브러리리\n",
    "from langchain_openai import ChatOpenAI"
   ]
  },
  {
   "cell_type": "code",
   "execution_count": 3,
   "id": "1f31f362",
   "metadata": {},
   "outputs": [
    {
     "data": {
      "text/plain": [
       "AIMessage(content='OECD(경제협력개발기구)는 38개의 회원국으로 구성되어 있습니다. 한국은 OECD 회원국 중 하나이며, 경제규모 면에서는 대체로 10위권 내에 위치해 있습니다. 구체적인 순위는 매년 경제 성장률 및 통계에 따라 변동이 있을 수 있으므로, 최신 자료를 통해 확인하는 것이 좋습니다. 예를 들어, 2023년 기준으로 한국의 경제규모는 대략 10위로 평가되고 있습니다.', additional_kwargs={'refusal': None}, response_metadata={'token_usage': {'completion_tokens': 108, 'prompt_tokens': 22, 'total_tokens': 130, 'completion_tokens_details': {'accepted_prediction_tokens': 0, 'audio_tokens': 0, 'reasoning_tokens': 0, 'rejected_prediction_tokens': 0}, 'prompt_tokens_details': {'audio_tokens': 0, 'cached_tokens': 0}}, 'model_name': 'gpt-4o-mini-2024-07-18', 'system_fingerprint': 'fp_54eb4bd693', 'id': 'chatcmpl-Bbdv87hdXLI2lXhjOTxZW3AvE3H0U', 'service_tier': 'default', 'finish_reason': 'stop', 'logprobs': None}, id='run--1e0f4dab-ae5b-4010-9168-ae9c1e452688-0', usage_metadata={'input_tokens': 22, 'output_tokens': 108, 'total_tokens': 130, 'input_token_details': {'audio': 0, 'cache_read': 0}, 'output_token_details': {'audio': 0, 'reasoning': 0}})"
      ]
     },
     "execution_count": 3,
     "metadata": {},
     "output_type": "execute_result"
    }
   ],
   "source": [
    "# 랭체인의 기본 질의 응답답\n",
    "llm = ChatOpenAI(model=\"gpt-4o-mini\")\n",
    "answer = llm.invoke('OECD국가는 몇개이며 한국은 경제규 몇위인지?')\n",
    "answer"
   ]
  },
  {
   "cell_type": "code",
   "execution_count": 11,
   "id": "4a544fce",
   "metadata": {},
   "outputs": [
    {
     "data": {
      "text/plain": [
       "AIMessage(content=\"지구의 자전 주기는 약 24시간입니다. 정확히 말하면, 지구는 한 번 자전하는 데 약 23시간 56분 4초가 걸립니다. 이를 '항성일'이라고 하며, 일반적으로 우리가 사용하는 24시간은 태양이 하늘에서 이동하는 것을 기준으로 하는 '태양일'을 나타냅니다. 태양일은 약간 길어지는 이유는 지구가 태양 주위를 공전하면서 회전하기 때문입니다.\", additional_kwargs={'refusal': None}, response_metadata={'token_usage': {'completion_tokens': 108, 'prompt_tokens': 34, 'total_tokens': 142, 'completion_tokens_details': {'accepted_prediction_tokens': 0, 'audio_tokens': 0, 'reasoning_tokens': 0, 'rejected_prediction_tokens': 0}, 'prompt_tokens_details': {'audio_tokens': 0, 'cached_tokens': 0}}, 'model_name': 'gpt-4o-mini-2024-07-18', 'system_fingerprint': 'fp_54eb4bd693', 'id': 'chatcmpl-BZseqb7LffJ2JT2lJigKXwVEZ9sMZ', 'service_tier': 'default', 'finish_reason': 'stop', 'logprobs': None}, id='run--d3eb2ba6-aa59-49c5-886e-fb8d0f95c676-0', usage_metadata={'input_tokens': 34, 'output_tokens': 108, 'total_tokens': 142, 'input_token_details': {'audio': 0, 'cache_read': 0}, 'output_token_details': {'audio': 0, 'reasoning': 0}})"
      ]
     },
     "execution_count": 11,
     "metadata": {},
     "output_type": "execute_result"
    }
   ],
   "source": [
    "# 랭체인 프롬프트 관린 라이브러리리\n",
    "from langchain_core.prompts import ChatPromptTemplate\n",
    "\n",
    "prompt = ChatPromptTemplate.from_template(\"너는 천문학 분야 전문가로써 질문에 답변을 해줘 <Question>:{input}\")\n",
    "\n",
    "chain = prompt | llm\n",
    "chain.invoke({\"input\" : \"지구의 자전 주기는?\"})"
   ]
  },
  {
   "cell_type": "code",
   "execution_count": 12,
   "id": "28a1eb5a",
   "metadata": {},
   "outputs": [
    {
     "data": {
      "text/plain": [
       "'지구의 자전 주기는 약 24시간입니다. 좀 더 정확히 말하면, 평균적으로 23시간 56분 4초 정도입니다. 이 시간을 “자전일”이라고 하며, 이는 지구가 한 번 자전하는 데 걸리는 시간입니다. 그러나 우리가 일반적으로 사용하는 24시간은 평균적인 태양일을 기준으로 하며, 태양이 다시 같은 위치에 나타나는 시간을 기준으로 합니다.'"
      ]
     },
     "execution_count": 12,
     "metadata": {},
     "output_type": "execute_result"
    }
   ],
   "source": [
    "from langchain_core.output_parsers import StrOutputParser\n",
    "\n",
    "output_parser = StrOutputParser()\n",
    "\n",
    "chain = prompt | llm | output_parser\n",
    "chain.invoke({\"input\" : \"지구의 자전 주기는?\"})"
   ]
  },
  {
   "cell_type": "code",
   "execution_count": 13,
   "id": "5ce709a1",
   "metadata": {},
   "outputs": [
    {
     "data": {
      "text/plain": [
       "'Future'"
      ]
     },
     "execution_count": 13,
     "metadata": {},
     "output_type": "execute_result"
    }
   ],
   "source": [
    "prompt1 = ChatPromptTemplate.from_template(\"translates {Korean_word} to English and one word answer\")\n",
    "prompt2 = ChatPromptTemplate.from_template(\"explain {English_word} using oxford dictionary to me in korean \")\n",
    "\n",
    "llm = ChatOpenAI(model = 'gpt-4o-mini')\n",
    "chain1 = prompt1 | llm | StrOutputParser()\n",
    "chain1.invoke({\"Korean_word\" : \"미래\"})"
   ]
  },
  {
   "cell_type": "code",
   "execution_count": 14,
   "id": "ddb0e107",
   "metadata": {},
   "outputs": [
    {
     "data": {
      "text/plain": [
       "'\"Future\"라는 단어는 옥스포드 사전에서 다음과 같이 정의됩니다:\\n\\n1. **미래**: 시간이 아직 오지 않은 시점, 즉 현재와 과거 사이에 위치한 시간.\\n2. **미래의 일들**: 앞으로 발생할 가능성이 있는 사건이나 상황들.\\n\\n한국어로 설명하자면, \\'미래\\'는 현재와 과거 사이에 있으며, 앞으로 일어날 가능성이 있는 상황이나 사건들을 의미합니다. 예를 들어, 우리의 계획이나 꿈, 예상되는 변화 등이 모두 미래와 관련이 있습니다.'"
      ]
     },
     "execution_count": 14,
     "metadata": {},
     "output_type": "execute_result"
    }
   ],
   "source": [
    "chain2 = (\n",
    "    {\"English_word\" : chain1} | prompt2 | llm | StrOutputParser()\n",
    "          )\n",
    "\n",
    "chain2.invoke({\"Korean_word\" : \"미래\"})"
   ]
  },
  {
   "cell_type": "code",
   "execution_count": 13,
   "id": "bdea2aad",
   "metadata": {},
   "outputs": [],
   "source": [
    "# 라이브러리 임포트\n",
    "from langchain_core.prompts import ChatPromptTemplate\n",
    "from langchain_core.prompts import PromptTemplate\n",
    "from langchain.chat_models import init_chat_model\n",
    "from langchain.schema.output_parser import StrOutputParser"
   ]
  },
  {
   "cell_type": "code",
   "execution_count": null,
   "id": "71cdf67d",
   "metadata": {},
   "outputs": [
    {
     "name": "stdout",
     "output_type": "stream",
     "text": [
      "LangChain은 인공지능과 자연어 처리(NLP)를 활용하여 언어 모델을 개선하고 다양하게 활용할 수 있도록 돕는 프레임워크입니다. LangChain을 공부하는 방법은 다음과 같이 정리할 수 있습니다.\n",
      "\n",
      "### 1. 기본 개념 이해하기\n",
      "- **인공지능과 자연어 처리(NLP)**: 기초적인 AI와 NLP의 원리를 이해합니다. 특히, 텍스트 데이터의 처리 방법, 언어 모델의 작동 방식 등을 학습합니다.\n",
      "\n",
      "### 2. LangChain의 아키텍처 이해하기\n",
      "- **구성 요소**: LangChain의 핵심 구성 요소(예: 프롬프트 관리, 체인, 에이전트 등)를 이해합니다. 각 요소의 역할과 실제 사용 사례를 조사합니다.\n",
      "\n",
      "### 3. 공식 문서 및 튜토리얼 활용하기\n",
      "- **공식 문서**: LangChain의 [공식 문서](https://langchain.readthedocs.io/)를 정독하며 구체적인 함수와 사용법을 익힙니다.\n",
      "- **튜토리얼**: 초기부터 중급 수준까지의 튜토리얼을 따라 해보며, 샘플 코드와 실습을 통해 경험을 쌓습니다.\n",
      "\n",
      "### 4. 실습 프로젝트 진행하기\n",
      "- **작은 프로젝트**: 간단한 프로젝트를 설정하여 LangChain을 활용해 보세요. 예를 들어, 챗봇, 텍스트 요약기 등을 만들어 볼 수 있습니다.\n",
      "- **커뮤니티 참여**: GitHub, 포럼, Discord 등의 커뮤니티에 참여하여 질문하고, 다른 사람들의 프로젝트를 통해 영감을 얻습니다.\n",
      "\n",
      "### 5. 고급 기능 탐구하기\n",
      "- **커스터마이징**: 기본적인 사용법을 익힌 후, LangChain의 API를 활용하여 자신만의 커스터마이징된 애플리케이션을 개발해봅니다.\n",
      "- **성능 개선 및 최적화**: 모델의 성능을 개선하기 위한 다양한 기법들을 비교하고 적용해보는 과정도 중요합니다.\n",
      "\n",
      "### 6. 지속적인 학습\n",
      "- **최신 트렌드**: AI와 NLP 분야는 빠르게 변화합니다. 최신 연구 동향, 사용자 사례 등을 지속적으로 학습하여 지식을 업데이트합니다.\n",
      "\n",
      "이렇게 단계별로 접근하면 LangChain에 대한 이해도를 높이고, 실제로 활용할 수 있는 능력을 길러나갈 수 있습니다.\n"
     ]
    }
   ],
   "source": [
    "# langchain의 기존 사용 구조\n",
    "\n",
    "# 1. 컴포넌트 정의\n",
    "prompt = ChatPromptTemplate.from_template(\"전문가의 관점으로 {input}을 쉽고 간단히 설명해줘\")\n",
    "model = init_chat_model(\"gpt-4o-mini\", model_provider=\"openai\")\n",
    "output_parser = StrOutputParser()\n",
    "\n",
    "# 2. 체인생성\n",
    "chain = prompt | model | output_parser\n",
    "\n",
    "# 3. 메소드 사용\n",
    "result = chain.invoke({\"input\":\"langchain공부법\"})\n",
    "print(result)"
   ]
  },
  {
   "cell_type": "code",
   "execution_count": 20,
   "id": "6b182543",
   "metadata": {},
   "outputs": [
    {
     "data": {
      "text/plain": [
       "['LangGraph은 언어와 관련된 다양한 데이터를 시각적으로 나타내고 분석할 수 있는 도구입니다. 더 쉽게 설명하자면, 텍스트와 단어의 관계를 그래프로 표현하여 언어의 구조와 의미를 이해하는 데 도움을 주는 플랫폼입니다.\\n\\n1. **언어 데이터 시각화**: LangGraph은 단어, 문장, 또는 문서 간의 관계를 그래프 형태로 나타냅니다. 이를 통해 사용자는 특정 단어가 다른 단어와 어떻게 연결되어 있는지 쉽게 파악할 수 있습니다.\\n\\n2. **관계 분석**: 예를 들어, 단어의 동의어, 대칭어, 그리고 문맥에 따라 어떻게 쓰이는지를 분석하여 언어의 뉘앙스를 이해하게 합니다.\\n\\n3. **사용자 친화적인 인터페이스**: 복잡한 NLP(자연어 처리) 기술 없이도 그래프를 통해 데이터를 탐색하고 언어의 패턴을 발견할 수 있는 직관적인 인터페이스를 제공합니다.\\n\\n4. **교육 및 연구 도구**: 언어학, 문학 연구, 교육 등의 분야에서 유용하게 사용할 수 있습니다. 학습자가 언어 구조를 이해하는 데 큰 도움이 됩니다.\\n\\n이렇게 LangGraph은 언어의 패턴을 시각적으로 쉽게 이해하고, 활용할 수 있도록 돕는 도구입니다.',\n",
       " 'LangSmith는 주로 자연어 처리(NLP)와 관련된 도구 또는 플랫폼으로, 사용자들이 다양한 언어 모델을 쉽게 구축하고 관리할 수 있도록 돕는 솔루션입니다. 이 플랫폼은 개발자나 데이터 과학자가 복잡한 알고리즘이나 수학적 모델링 없이도 언어 모델을 실험하고 적용할 수 있는 환경을 제공합니다.\\n\\nLangSmith의 주요 기능은 다음과 같습니다:\\n\\n1. **모델 훈련**: 사용자들이 데이터를 입력하여 자신만의 언어 모델을 훈련시킬 수 있도록 지원합니다.\\n\\n2. **프로토타이핑**: 빠르게 프로토타입을 만들고 테스트해 볼 수 있는 기능을 제공하여, 아이디어를 신속하게 검증할 수 있습니다.\\n\\n3. **커스터마이징**: 사용자 요구에 맞춰 모델을 커스터마이즈할 수 있는 옵션이 있어, 특정 업무나 도메인에 적합한 솔루션을 구현할 수 있습니다.\\n\\n4. **사용자 친화적 인터페이스**: 비전문가도 쉽게 접근할 수 있도록 직관적인 사용자 인터페이스를 제공합니다.\\n\\nLangSmith는 이러한 특징들 덕분에 언어 기반 애플리케이션을 개발하는 데 있어 많은 시간을 절약하도록 도와주며, 사용자가 더 창의적이고 효과적인 솔루션을 설계할 수 있도록 지원합니다.',\n",
       " 'LangChain은 자연어 처리(NLP)와 관련된 작업을 쉽게 수행할 수 있도록 돕는 라이브러리입니다. 주로 대화형 AI 애플리케이션이나 챗봇을 만들 때 유용합니다. LangChain의 핵심은 다양한 언어 모델(예: OpenAI GPT 모델)과 연결하여 이를 통해 자연어 이해, 텍스트 생성, 정보 검색 등의 기능을 손쉽게 구현할 수 있다는 점입니다.\\n\\n### 주요 기능:\\n\\n1. **프롬프트 관리**: LangChain은 언어 모델에 전달할 프롬프트를 쉽게 만들고 관리할 수 있는 기능을 제공합니다. 이는 개발자가 모델에 대한 입력을 최적화하는 데 도움을 줍니다.\\n\\n2. **체인 구성**: 여러 개의 언어 모델이나 데이터 소스를 연결하여 복잡한 작업을 수행할 수 있는 체인을 구성할 수 있습니다. 예를 들어, 질문 응답 시스템을 구축할 때 정보 검색과 텍스트 생성을 연계할 수 있습니다.\\n\\n3. **연동 가능성**: LangChain은 다양한 데이터베이스와 API, 외부 서비스와 연동하여 정보를 수집하거나 저장하는 기능을 지원합니다.\\n\\n4. **사용자 정의**: 각 애플리케이션의 요구에 맞게 커스터마이즈가 가능하여, 특정 도메인에 특화된 언어 모델이나 알고리즘을 쉽게 통합할 수 있습니다.\\n\\n### 사용 사례:\\n- 고객 지원 챗봇\\n- 기사 요약\\n- 문서 검색 및 정보 추출\\n- 대화형 학습 도구 등\\n\\nLangChain은 복잡한 자연어 처리 작업을 단순화하고, 개발자가 더 창의적이고 효율적으로 솔루션을 설계할 수 있도록 도와주는 강력한 도구입니다.']"
      ]
     },
     "execution_count": 20,
     "metadata": {},
     "output_type": "execute_result"
    }
   ],
   "source": [
    "# 4-1. 메서드사용\n",
    "inputs = [\"LangGraph\",\"LangSmith\",\"LangChain\"]\n",
    "results = chain.batch([{\"input\":i} for i in inputs])\n",
    "results"
   ]
  },
  {
   "cell_type": "code",
   "execution_count": 23,
   "id": "8163c99e",
   "metadata": {},
   "outputs": [
    {
     "name": "stdout",
     "output_type": "stream",
     "text": [
      "LangGraph은 언어와 관련된 다양한 데이터를 시각적으로 나타내고 분석할 수 있는 도구입니다. 더 쉽게 설명하자면, 텍스트와 단어의 관계를 그래프로 표현하여 언어의 구조와 의미를 이해하는 데 도움을 주는 플랫폼입니다.\n",
      "\n",
      "1. **언어 데이터 시각화**: LangGraph은 단어, 문장, 또는 문서 간의 관계를 그래프 형태로 나타냅니다. 이를 통해 사용자는 특정 단어가 다른 단어와 어떻게 연결되어 있는지 쉽게 파악할 수 있습니다.\n",
      "\n",
      "2. **관계 분석**: 예를 들어, 단어의 동의어, 대칭어, 그리고 문맥에 따라 어떻게 쓰이는지를 분석하여 언어의 뉘앙스를 이해하게 합니다.\n",
      "\n",
      "3. **사용자 친화적인 인터페이스**: 복잡한 NLP(자연어 처리) 기술 없이도 그래프를 통해 데이터를 탐색하고 언어의 패턴을 발견할 수 있는 직관적인 인터페이스를 제공합니다.\n",
      "\n",
      "4. **교육 및 연구 도구**: 언어학, 문학 연구, 교육 등의 분야에서 유용하게 사용할 수 있습니다. 학습자가 언어 구조를 이해하는 데 큰 도움이 됩니다.\n",
      "\n",
      "이렇게 LangGraph은 언어의 패턴을 시각적으로 쉽게 이해하고, 활용할 수 있도록 돕는 도구입니다.\n",
      "LangSmith는 주로 자연어 처리(NLP)와 관련된 도구 또는 플랫폼으로, 사용자들이 다양한 언어 모델을 쉽게 구축하고 관리할 수 있도록 돕는 솔루션입니다. 이 플랫폼은 개발자나 데이터 과학자가 복잡한 알고리즘이나 수학적 모델링 없이도 언어 모델을 실험하고 적용할 수 있는 환경을 제공합니다.\n",
      "\n",
      "LangSmith의 주요 기능은 다음과 같습니다:\n",
      "\n",
      "1. **모델 훈련**: 사용자들이 데이터를 입력하여 자신만의 언어 모델을 훈련시킬 수 있도록 지원합니다.\n",
      "\n",
      "2. **프로토타이핑**: 빠르게 프로토타입을 만들고 테스트해 볼 수 있는 기능을 제공하여, 아이디어를 신속하게 검증할 수 있습니다.\n",
      "\n",
      "3. **커스터마이징**: 사용자 요구에 맞춰 모델을 커스터마이즈할 수 있는 옵션이 있어, 특정 업무나 도메인에 적합한 솔루션을 구현할 수 있습니다.\n",
      "\n",
      "4. **사용자 친화적 인터페이스**: 비전문가도 쉽게 접근할 수 있도록 직관적인 사용자 인터페이스를 제공합니다.\n",
      "\n",
      "LangSmith는 이러한 특징들 덕분에 언어 기반 애플리케이션을 개발하는 데 있어 많은 시간을 절약하도록 도와주며, 사용자가 더 창의적이고 효과적인 솔루션을 설계할 수 있도록 지원합니다.\n",
      "LangChain은 자연어 처리(NLP)와 관련된 작업을 쉽게 수행할 수 있도록 돕는 라이브러리입니다. 주로 대화형 AI 애플리케이션이나 챗봇을 만들 때 유용합니다. LangChain의 핵심은 다양한 언어 모델(예: OpenAI GPT 모델)과 연결하여 이를 통해 자연어 이해, 텍스트 생성, 정보 검색 등의 기능을 손쉽게 구현할 수 있다는 점입니다.\n",
      "\n",
      "### 주요 기능:\n",
      "\n",
      "1. **프롬프트 관리**: LangChain은 언어 모델에 전달할 프롬프트를 쉽게 만들고 관리할 수 있는 기능을 제공합니다. 이는 개발자가 모델에 대한 입력을 최적화하는 데 도움을 줍니다.\n",
      "\n",
      "2. **체인 구성**: 여러 개의 언어 모델이나 데이터 소스를 연결하여 복잡한 작업을 수행할 수 있는 체인을 구성할 수 있습니다. 예를 들어, 질문 응답 시스템을 구축할 때 정보 검색과 텍스트 생성을 연계할 수 있습니다.\n",
      "\n",
      "3. **연동 가능성**: LangChain은 다양한 데이터베이스와 API, 외부 서비스와 연동하여 정보를 수집하거나 저장하는 기능을 지원합니다.\n",
      "\n",
      "4. **사용자 정의**: 각 애플리케이션의 요구에 맞게 커스터마이즈가 가능하여, 특정 도메인에 특화된 언어 모델이나 알고리즘을 쉽게 통합할 수 있습니다.\n",
      "\n",
      "### 사용 사례:\n",
      "- 고객 지원 챗봇\n",
      "- 기사 요약\n",
      "- 문서 검색 및 정보 추출\n",
      "- 대화형 학습 도구 등\n",
      "\n",
      "LangChain은 복잡한 자연어 처리 작업을 단순화하고, 개발자가 더 창의적이고 효율적으로 솔루션을 설계할 수 있도록 도와주는 강력한 도구입니다.\n"
     ]
    }
   ],
   "source": [
    "print(results[0])\n",
    "print(results[1])\n",
    "print(results[2])"
   ]
  },
  {
   "cell_type": "code",
   "execution_count": 27,
   "id": "f427c42d",
   "metadata": {},
   "outputs": [
    {
     "name": "stdout",
     "output_type": "stream",
     "text": [
      "stream 결과:\n",
      "LangSmith는 AI 언어 모델을 개발하고 관리하는 데 도움을 주는 도구입니다. 이 플랫폼은 주로 코딩 및 언어 처리 작업을 보다 효율적으로 수행할 수 있도록 설계되었습니다. \n",
      "\n",
      "주요 기능으로는 다음과 같은 것들이 있습니다:\n",
      "\n",
      "1. **모델 훈련**: 사용자는 쉽게 AI 모델을 훈련시키고, 자신의 데이터를 기반으로 맞춤형 모델을 만들 수 있습니다.\n",
      "2. **테스트 및 평가**: AI 모델의 성능을 테스트하고 평가할 수 있는 도구를 제공합니다.\n",
      "3. **협업 기능**: 팀원들과의 협업을 통해 여러 사람과 함께 모델을 개발하고 개선할 수 있습니다.\n",
      "\n",
      "따라서, LangSmith은 개발자나 데이터 과학자들이 보다 간편하게 AI 모델을 다루고, 이를 통해 다양한 언어 처리 작업을 수행할 수 있도록 돕는 플랫폼입니다.\n"
     ]
    }
   ],
   "source": [
    "# 4-2. 매서드사용\n",
    "stream = chain.stream({\"input\":\"LangSmith\"})\n",
    "print(\"stream 결과:\")\n",
    "for chunk in stream:\n",
    "    print(chunk, end=\"\", flush=True)\n",
    "print()"
   ]
  },
  {
   "cell_type": "markdown",
   "id": "c65f95c4",
   "metadata": {},
   "source": [
    "## 프롬프트 작성 요령\n",
    "- 질문은 명확하고 구체적\n",
    "- 모델이 문맥을 이해할 수 있도록 필요한 배경 정보를 제공\n",
    "- 핵심 정보에 초점을 맞추고, 불필요한 정보는 배제, 프롬프트가 길어지면 모델이 덜 중요한 부분에 집중하거나 상당한 영향을 받는 문제가 발생 가능\n",
    "- 열린 질문을 통해 모델이 자세하고 풍부한 답변을 제공하도록 유도\n",
    "- 얻고자 하는 정보나 결과의 유형을 정확하게 정의\n",
    "- 대화의 맥락에 적합한 언어와 문체를 선택"
   ]
  },
  {
   "cell_type": "code",
   "execution_count": 4,
   "id": "d286e90a",
   "metadata": {},
   "outputs": [
    {
     "data": {
      "text/plain": [
       "'안녕하세요 제 이름은 김보생이고 , 나이는 39살입니다'"
      ]
     },
     "execution_count": 4,
     "metadata": {},
     "output_type": "execute_result"
    }
   ],
   "source": [
    "template_text = \"안녕하세요 제 이름은 {name}이고 , 나이는 {age}살입니다\"\n",
    "prompt_template = PromptTemplate.from_template(template_text)\n",
    "filled_prompt = prompt_template.format(name = '김보생', age = '39')\n",
    "filled_prompt"
   ]
  },
  {
   "cell_type": "code",
   "execution_count": 8,
   "id": "b746de3b",
   "metadata": {},
   "outputs": [
    {
     "data": {
      "text/plain": [
       "PromptTemplate(input_variables=['age', 'language', 'name'], input_types={}, partial_variables={}, template='안녕하세요 제 이름은 {name}이고 , 나이는 {age}살입니다\\n\\n아버지를 아버지라 부를 수 없습니다.\\n\\n{language}로 번역해 주세요')"
      ]
     },
     "execution_count": 8,
     "metadata": {},
     "output_type": "execute_result"
    }
   ],
   "source": [
    "combined_prompt = (prompt_template + prompt_template.from_template(\"\\n\\n아버지를 아버지라 부를 수 없습니다.\") + \"\\n\\n{language}로 번역해 주세요\")\n",
    "combined_prompt"
   ]
  },
  {
   "cell_type": "code",
   "execution_count": 9,
   "id": "af8a0fe9",
   "metadata": {},
   "outputs": [
    {
     "data": {
      "text/plain": [
       "'안녕하세요 제 이름은 홍길동이고 , 나이는 30살입니다\\n\\n아버지를 아버지라 부를 수 없습니다.\\n\\n영어로 번역해 주세요'"
      ]
     },
     "execution_count": 9,
     "metadata": {},
     "output_type": "execute_result"
    }
   ],
   "source": [
    "combined_prompt.format(name = \"홍길동\", age = '30', language = '영어')"
   ]
  },
  {
   "cell_type": "code",
   "execution_count": 14,
   "id": "2b9ff77a",
   "metadata": {},
   "outputs": [
    {
     "data": {
      "text/plain": [
       "'Hello, my name is Hong Gildong, and I am 30 years old. I cannot call my father \"father.\"'"
      ]
     },
     "execution_count": 14,
     "metadata": {},
     "output_type": "execute_result"
    }
   ],
   "source": [
    "model = init_chat_model(\"gpt-4o-mini\", model_provider=\"openai\")\n",
    "output_parser = StrOutputParser()\n",
    "\n",
    "chain = combined_prompt | model | output_parser\n",
    "chain.invoke({\"name\" : \"홍길동\", \"age\" : 30, \"language\":\"english\"})"
   ]
  },
  {
   "cell_type": "code",
   "execution_count": null,
   "id": "d04b034f",
   "metadata": {},
   "outputs": [],
   "source": []
  }
 ],
 "metadata": {
  "kernelspec": {
   "display_name": "base",
   "language": "python",
   "name": "python3"
  },
  "language_info": {
   "codemirror_mode": {
    "name": "ipython",
    "version": 3
   },
   "file_extension": ".py",
   "mimetype": "text/x-python",
   "name": "python",
   "nbconvert_exporter": "python",
   "pygments_lexer": "ipython3",
   "version": "3.12.4"
  }
 },
 "nbformat": 4,
 "nbformat_minor": 5
}
