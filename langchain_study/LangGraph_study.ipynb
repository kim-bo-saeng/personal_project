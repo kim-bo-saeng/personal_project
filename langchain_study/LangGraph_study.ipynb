{
 "cells": [
  {
   "cell_type": "markdown",
   "id": "81b545c3",
   "metadata": {},
   "source": [
    "### langgraph 기본 그래프 생성\n",
    "\n",
    "1. State 정의\n",
    "2. 노드 정의\n",
    "3. 그래프 정의\n",
    "4. 그래프 컴파일\n",
    "5. 그래프 시각화"
   ]
  },
  {
   "cell_type": "code",
   "execution_count": null,
   "id": "ecf6325a",
   "metadata": {},
   "outputs": [],
   "source": [
    "pip install langgraph\n",
    "pip install langchain_teddynote"
   ]
  },
  {
   "cell_type": "code",
   "execution_count": null,
   "id": "b4726a55",
   "metadata": {},
   "outputs": [],
   "source": [
    "# State정의(아래는 형태를 적어놓았을뿐 실제값이나 변수를 입력하여 작성한것은 아님)\n",
    "\n",
    "from typing import TypedDict, Annotated, List\n",
    "from langchain_core.documents import Document\n",
    "import operator\n",
    "\n",
    "class GraphState(TypedDict):\n",
    "    context : Annotated[List[Document], operator.add]  # 리스트는 애드가 가능\n",
    "    answer : Annotated[List[Document], operator.add]\n",
    "    question : Annotated[str,\"user question\"]          # 문자열에는 애드가 안되니 그냥 정의문을 써둠둠\n",
    "    sql_query : Annotated[str,\"sql query\"]\n",
    "    binary_score : Annotated[str,\"binary score yes or no\"]"
   ]
  },
  {
   "cell_type": "code",
   "execution_count": 6,
   "id": "c43e4ff9",
   "metadata": {},
   "outputs": [],
   "source": [
    "# 노드정의(아래는 형태를 적어 놓았을뿐 실제값이나 변수를 입력하여 작서한것은 아님)\n",
    "# 노드는 기본적으로 함수구조로 정의한다.\n",
    "\n",
    "def retrive(state:GraphState) -> GraphState:\n",
    "    # retrive : 검색 기능 노드\n",
    "    documents = \"검색된 문서\"\n",
    "    return {\"context\" : documents}   # 입력도 state고 출력도 state이지만 key/value형태로 해도 된다 사실상 같은거다\n",
    "\n",
    "def rewrite_query(state:GraphState) -> GraphState:\n",
    "    # Query Transform : 쿼리 재작성\n",
    "    documents = \"검색된 문서\"\n",
    "    return GraphState(context=documents) # 이렇게 반환을 하는것이 정석같은거니 이구조가 좋다다\n",
    "\n",
    "def llm_gpt_execute(state:GraphState) -> GraphState:\n",
    "    # LLM 실행\n",
    "    answer = \"GPT 생성된 답변\"\n",
    "    return GraphState(answer=answer)\n",
    "\n",
    "def relevance_check(state:GraphState) -> GraphState:\n",
    "    # Relevance Check : 관련성 확인\n",
    "    binary_score = \"Relevance Score\"\n",
    "    return GraphState(binary_score=binary_score)\n",
    "\n",
    "def sum_up(state:GraphState) -> GraphState:\n",
    "    # sum_up : 결과 종합\n",
    "    answer = \"종합된 답변\"\n",
    "    return GraphState(answer=answer)\n",
    "\n",
    "def search_on_web(state:GraphState) -> GraphState:\n",
    "    # Search on web : 웹 검색\n",
    "    documents = state[\"context\"] = \"기존문서\"\n",
    "    searched_documents = \"검색된 문서\"\n",
    "    documents += searched_documents\n",
    "    return GraphState(context=documents)\n",
    "\n",
    "def get_table_info(state:GraphState) -> GraphState:\n",
    "    # get table info : 테이블 정보 가져오기\n",
    "    table_info = \"테이블 정보\"\n",
    "    return GraphState(context=table_info)\n",
    "\n",
    "def generate_sql_query(state : GraphState) -> GraphState:\n",
    "    # Make SQL Query : SQL 쿼리 생성\n",
    "    sql_query = \"SQL 쿼리\"\n",
    "    return GraphState(sql_query=sql_query)\n",
    "\n",
    "def execute_sql_query(state : GraphState) -> GraphState:\n",
    "    # Execute SQL Query : SQL 쿼리 실행\n",
    "    sql_result = \"SQL 결과\"\n",
    "    return GraphState(context=sql_result)\n",
    "\n",
    "def validate_sql_query(state : GraphState) -> GraphState:\n",
    "    # Validate SQL Query : SQL 쿼리 검증\n",
    "    binary_score = \"SQL 쿼리 검증 결과\"\n",
    "    return GraphState(binary_score=binary_score)\n",
    "\n",
    "def handle_error(stest:GraphState) -> GraphState:\n",
    "    # Error handling : 에러처리\n",
    "    error = \"에러 발생\"\n",
    "    return GraphState(context=error)\n",
    "\n",
    "def decision(state:GraphState) -> GraphState:\n",
    "    # 의사결정\n",
    "    decision = \"결정\"\n",
    "    return decision"
   ]
  },
  {
   "cell_type": "markdown",
   "id": "7d4d910d",
   "metadata": {},
   "source": [
    "### 1. 가장간단한 구조인 conventional RAG"
   ]
  },
  {
   "cell_type": "code",
   "execution_count": 15,
   "id": "95dc9030",
   "metadata": {},
   "outputs": [
    {
     "data": {
      "image/png": "[encoded data removed]",
      "text/plain": [
       "<IPython.core.display.Image object>"
      ]
     },
     "metadata": {},
     "output_type": "display_data"
    }
   ],
   "source": [
    "from langgraph.graph import END, StateGraph\n",
    "from langgraph.checkpoint.memory import MemorySaver\n",
    "from langchain_teddynote.graphs import visualize_graph\n",
    "\n",
    "#langgraph.graph에서 StateGraph와 END를 가져옵니다.\n",
    "workflow = StateGraph(GraphState)\n",
    "\n",
    "# 노드를 추가 합니다.\n",
    "workflow.add_node(\"retrive\", retrive)\n",
    "workflow.add_node(\"GPT 요청\",llm_gpt_execute)\n",
    "workflow.add_node(\"GPT_relevance_check\", relevance_check)\n",
    "workflow.add_node(\"결과 종합\", sum_up)\n",
    "\n",
    "# 각 노드를 연결 합니다.\n",
    "workflow.add_edge(\"retrive\",\"GPT 요청\")\n",
    "workflow.add_edge(\"GPT 요청\",\"GPT_relevance_check\")\n",
    "workflow.add_edge(\"GPT_relevance_check\",\"결과 종합\")\n",
    "workflow.add_edge(\"결과 종합\",END)\n",
    "\n",
    "workflow.set_entry_point(\"retrive\")\n",
    "memory = MemorySaver()\n",
    "app = workflow.compile(checkpointer=memory)\n",
    "\n",
    "visualize_graph(app)"
   ]
  },
  {
   "cell_type": "code",
   "execution_count": null,
   "id": "18c9f916",
   "metadata": {},
   "outputs": [],
   "source": []
  }
 ],
 "metadata": {
  "kernelspec": {
   "display_name": "base",
   "language": "python",
   "name": "python3"
  },
  "language_info": {
   "codemirror_mode": {
    "name": "ipython",
    "version": 3
   },
   "file_extension": ".py",
   "mimetype": "text/x-python",
   "name": "python",
   "nbconvert_exporter": "python",
   "pygments_lexer": "ipython3",
   "version": "3.12.4"
  }
 },
 "nbformat": 4,
 "nbformat_minor": 5
}
