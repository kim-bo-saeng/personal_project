{
 "cells": [
  {
   "cell_type": "markdown",
   "id": "81b545c3",
   "metadata": {},
   "source": [
    "### langgraph 기본 그래프 생성\n",
    "\n",
    "1. State 정의\n",
    "2. 노드 정의\n",
    "3. 그래프 정의\n",
    "4. 그래프 컴파일\n",
    "5. 그래프 시각화"
   ]
  },
  {
   "cell_type": "code",
   "execution_count": null,
   "id": "b4726a55",
   "metadata": {},
   "outputs": [],
   "source": [
    "# State정의\n",
    "\n",
    "from typing import TypedDict, Annotated, List\n",
    "from langchain_core.documents import Document\n",
    "import operator\n",
    "\n",
    "class GraphState(TypedDict):\n",
    "    context : Annotated[List[Document], operator.add]\n",
    "    answer : Annotated[List[Document], operator.add]\n",
    "    question : Annotated[str,operator.add]\n",
    "    sql_query : Annotated[str,operator.add]\n",
    "    binary_score : Annotated[str,operator.add]\n"
   ]
  },
  {
   "cell_type": "code",
   "execution_count": null,
   "id": "c43e4ff9",
   "metadata": {},
   "outputs": [
    {
     "data": {
      "text/plain": [
       "23500"
      ]
     },
     "execution_count": 3,
     "metadata": {},
     "output_type": "execute_result"
    }
   ],
   "source": []
  },
  {
   "cell_type": "code",
   "execution_count": null,
   "id": "95dc9030",
   "metadata": {},
   "outputs": [],
   "source": []
  }
 ],
 "metadata": {
  "kernelspec": {
   "display_name": "base",
   "language": "python",
   "name": "python3"
  },
  "language_info": {
   "codemirror_mode": {
    "name": "ipython",
    "version": 3
   },
   "file_extension": ".py",
   "mimetype": "text/x-python",
   "name": "python",
   "nbconvert_exporter": "python",
   "pygments_lexer": "ipython3",
   "version": "3.12.4"
  }
 },
 "nbformat": 4,
 "nbformat_minor": 5
}
