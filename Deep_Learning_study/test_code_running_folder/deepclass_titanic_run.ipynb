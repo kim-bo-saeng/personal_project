{
 "cells": [
  {
   "cell_type": "markdown",
   "metadata": {},
   "source": [
    "### class 코드로 작성한 다층 딥러닝 기본코드에 책에서 제공하지 않은 데이터를 가져와서\n",
    "### dataset 클래스로 생성하고 딥러닝 클래스 코드에 맞춰 돌려보기\n",
    "### 우선 가장 기본인 테이블 형태의 데이터에서 분류문제의 예제로 많이 사용하는 타이타닉과 집값예측을 가져와서 돌려보고\n",
    "### 테이블 데이터가 아닌 이미지 데이터를 가져와서 돌려볼것임"
   ]
  },
  {
   "cell_type": "code",
   "execution_count": 1,
   "metadata": {},
   "outputs": [],
   "source": [
    "%run ../deeplearning_class_code_folder/mlp_model_class.ipynb\n",
    "%run ../deeplearning_class_code_folder/dataset_class.ipynb"
   ]
  },
  {
   "cell_type": "code",
   "execution_count": 2,
   "metadata": {},
   "outputs": [],
   "source": [
    "import pandas as pd"
   ]
  },
  {
   "cell_type": "code",
   "execution_count": 133,
   "metadata": {},
   "outputs": [],
   "source": [
    "rows,_ = load_csv('../test_code_running_folder/titanic_dataset.csv')"
   ]
  },
  {
   "cell_type": "code",
   "execution_count": 134,
   "metadata": {},
   "outputs": [
    {
     "name": "stdout",
     "output_type": "stream",
     "text": [
      "61\n",
      "['62', '38', '80', '1', '0', '0', '0', '0', '0', '0', '0', '0', '0', '0', '0', '0', '0', '0', '0', '0', '0', '1', '0', '0', '', '0', '0', '1']\n",
      "\n",
      "빈값\n",
      "829\n",
      "['830', '62', '80', '1', '0', '0', '0', '0', '0', '0', '0', '0', '0', '0', '0', '0', '0', '0', '0', '0', '0', '1', '0', '0', '', '0', '0', '1']\n",
      "\n",
      "빈값\n"
     ]
    }
   ],
   "source": [
    "for num,row in enumerate(rows):\n",
    "    for i in row:\n",
    "        if i == '':\n",
    "            print(num)\n",
    "            print(row)\n",
    "            print(i)\n",
    "            print(\"빈값\")"
   ]
  },
  {
   "cell_type": "code",
   "execution_count": 136,
   "metadata": {},
   "outputs": [],
   "source": [
    "rows, _ = load_csv('../test_code_running_folder/titanic_dataset.csv')\n",
    "rows[829][24] = '0'\n",
    "rows[61][24] = '0'\n",
    "\n",
    "clean_data = []\n",
    "row_data = []\n",
    "for row in rows:\n",
    "    row_data = []\n",
    "    row_data.append(row[1])\n",
    "    row_data.append(row[2])\n",
    "    row_data.append(row[3])\n",
    "    row_data.append(row[4])\n",
    "    row_data.append(row[12])\n",
    "    row_data.append(row[21])\n",
    "    row_data.append(row[24])\n",
    "    row_data.append(row[27])\n",
    "    clean_data += [row_data]"
   ]
  },
  {
   "cell_type": "code",
   "execution_count": 137,
   "metadata": {},
   "outputs": [
    {
     "data": {
      "text/plain": [
       "array([[22.    ,  7.25  ,  0.    , ...,  3.    ,  2.    ,  0.    ],\n",
       "       [38.    , 71.2833,  1.    , ...,  1.    ,  0.    ,  1.    ],\n",
       "       [26.    ,  7.925 ,  1.    , ...,  3.    ,  2.    ,  1.    ],\n",
       "       ...,\n",
       "       [38.5   ,  7.25  ,  0.    , ...,  3.    ,  2.    ,  0.    ],\n",
       "       [28.    ,  8.05  ,  0.    , ...,  3.    ,  2.    ,  0.    ],\n",
       "       [28.    , 22.3583,  0.    , ...,  3.    ,  0.    ,  0.    ]],\n",
       "      dtype=float32)"
      ]
     },
     "execution_count": 137,
     "metadata": {},
     "output_type": "execute_result"
    }
   ],
   "source": [
    "data = np.asarray(clean_data, dtype='float32')\n",
    "data"
   ]
  },
  {
   "cell_type": "code",
   "execution_count": 152,
   "metadata": {},
   "outputs": [
    {
     "data": {
      "text/plain": [
       "array([ 3.   , 13.775,  1.   ,  1.   ,  1.   ,  3.   ,  2.   ,  0.   ],\n",
       "      dtype=float32)"
      ]
     },
     "execution_count": 152,
     "metadata": {},
     "output_type": "execute_result"
    }
   ],
   "source": [
    "data[1300]"
   ]
  },
  {
   "cell_type": "code",
   "execution_count": 143,
   "metadata": {},
   "outputs": [],
   "source": [
    "class TitanicDataset(Dataset):\n",
    "    def __init__(self):\n",
    "        super(TitanicDataset, self).__init__('titanic', 'binary')\n",
    "    \n",
    "        rows, _ = load_csv('../test_code_running_folder/titanic_dataset.csv')\n",
    "        rows[829][24] = '0'\n",
    "        rows[61][24] = '0'\n",
    "\n",
    "        clean_data = []\n",
    "        row_data = []\n",
    "        for row in rows:\n",
    "            row_data = []\n",
    "            row_data.append(row[1])\n",
    "            row_data.append(row[2])\n",
    "            row_data.append(row[3])\n",
    "            row_data.append(row[4])\n",
    "            row_data.append(row[12])\n",
    "            row_data.append(row[21])\n",
    "            row_data.append(row[24])\n",
    "            row_data.append(row[27])\n",
    "            clean_data += [row_data]\n",
    "\n",
    "        data = np.asarray(clean_data, dtype='float32')\n",
    "        self.shuffle_data(data[:,:-1], data[:,-1:], 0.8)\n",
    "        self.target_names = ['죽음', '생존']\n",
    "        \n",
    "    def visualize(self, xs, estimates, answers):\n",
    "        for n in range(len(xs)):\n",
    "            x, est, ans = xs[n], estimates[n], answers[n]\n",
    "            xstr = vector_to_str(x, '%5.1f', 3)\n",
    "            estr = self.target_names[int(round(est[0]))]\n",
    "            astr = self.target_names[int(round(ans[0]))]\n",
    "            rstr = 'O'\n",
    "            if estr != astr: rstr = 'X'\n",
    "            print('{} => 추정 {}(확률 {:4.2f}) : 정답 {} => {}'. \\\n",
    "                  format(xstr, estr, est[0], astr, rstr))"
   ]
  },
  {
   "cell_type": "code",
   "execution_count": 144,
   "metadata": {},
   "outputs": [],
   "source": [
    "%run ../deeplearning_class_code_folder/mlp_model_class.ipynb\n",
    "%run ../deeplearning_class_code_folder/mathutil.ipynb\n",
    "%run ../deeplearning_class_code_folder/dataset_class.ipynb"
   ]
  },
  {
   "cell_type": "code",
   "execution_count": 153,
   "metadata": {},
   "outputs": [
    {
     "name": "stdout",
     "output_type": "stream",
     "text": [
      "Model titanic_model train started:\n",
      "    Epoch 2: cost=0.642, accuracy=0.739/0.677 (0/0 secs)\n",
      "    Epoch 4: cost=0.583, accuracy=0.739/0.677 (0/0 secs)\n",
      "    Epoch 6: cost=0.562, accuracy=0.744/0.677 (0/0 secs)\n",
      "    Epoch 8: cost=0.555, accuracy=0.739/0.677 (0/0 secs)\n",
      "    Epoch 10: cost=0.553, accuracy=0.741/0.662 (0/0 secs)\n",
      "    Epoch 12: cost=0.551, accuracy=0.738/0.677 (0/0 secs)\n",
      "    Epoch 14: cost=0.550, accuracy=0.741/0.677 (0/0 secs)\n",
      "    Epoch 16: cost=0.548, accuracy=0.737/0.677 (1/1 secs)\n",
      "    Epoch 18: cost=0.547, accuracy=0.741/0.662 (0/1 secs)\n",
      "    Epoch 20: cost=0.545, accuracy=0.735/0.677 (0/1 secs)\n",
      "    Epoch 22: cost=0.545, accuracy=0.737/0.677 (0/1 secs)\n",
      "    Epoch 24: cost=0.545, accuracy=0.737/0.677 (0/1 secs)\n",
      "    Epoch 26: cost=0.544, accuracy=0.737/0.677 (0/1 secs)\n",
      "    Epoch 28: cost=0.543, accuracy=0.738/0.677 (0/1 secs)\n",
      "    Epoch 30: cost=0.543, accuracy=0.738/0.662 (0/1 secs)\n",
      "    Epoch 32: cost=0.542, accuracy=0.739/0.677 (0/1 secs)\n",
      "    Epoch 34: cost=0.542, accuracy=0.739/0.677 (0/1 secs)\n",
      "    Epoch 36: cost=0.542, accuracy=0.737/0.677 (0/1 secs)\n",
      "    Epoch 38: cost=0.541, accuracy=0.740/0.677 (0/1 secs)\n",
      "    Epoch 40: cost=0.541, accuracy=0.738/0.662 (0/1 secs)\n",
      "    Epoch 42: cost=0.541, accuracy=0.738/0.662 (0/1 secs)\n",
      "    Epoch 44: cost=0.540, accuracy=0.739/0.677 (0/1 secs)\n",
      "    Epoch 46: cost=0.540, accuracy=0.738/0.677 (0/1 secs)\n",
      "    Epoch 48: cost=0.540, accuracy=0.737/0.677 (0/1 secs)\n",
      "    Epoch 50: cost=0.540, accuracy=0.737/0.662 (0/1 secs)\n",
      "Model titanic_model train ended in 1 secs:\n",
      "Model titanic_model test report: accuracy = 0.755, (0 secs)\n",
      "\n",
      "Model titanic_model Visualization\n",
      "[ 33.0, 26.0,  1.0,...] => 추정 죽음(확률 0.26) : 정답 생존 => X\n",
      "[ 28.0,  7.7,  0.0,...] => 추정 죽음(확률 0.18) : 정답 죽음 => O\n",
      "[  8.0, 26.0,  1.0,...] => 추정 죽음(확률 0.45) : 정답 죽음 => O\n"
     ]
    }
   ],
   "source": [
    "td = TitanicDataset()\n",
    "tm = MlpModel('titanic_model', td, [8])\n",
    "tm.exec_all(epoch_count=50, report=2)"
   ]
  },
  {
   "cell_type": "code",
   "execution_count": 154,
   "metadata": {},
   "outputs": [
    {
     "name": "stdout",
     "output_type": "stream",
     "text": [
      "Model titanic_model Visualization\n",
      "[ 28.0, 69.6,  0.0,...] => 추정 죽음(확률 0.42) : 정답 죽음 => O\n",
      "[ 27.0, 13.9,  1.0,...] => 추정 죽음(확률 0.24) : 정답 생존 => X\n",
      "[ 22.0,  7.2,  0.0,...] => 추정 죽음(확률 0.22) : 정답 죽음 => O\n",
      "[ 25.0, 31.5,  0.0,...] => 추정 죽음(확률 0.42) : 정답 죽음 => O\n",
      "[ 30.0, 13.9,  1.0,...] => 추정 죽음(확률 0.21) : 정답 죽음 => O\n",
      "[ 24.0,  7.1,  0.0,...] => 추정 죽음(확률 0.20) : 정답 죽음 => O\n",
      "[  8.0, 21.1,  1.0,...] => 추정 죽음(확률 0.44) : 정답 죽음 => O\n",
      "[ 28.0,  7.2,  0.0,...] => 추정 죽음(확률 0.18) : 정답 죽음 => O\n",
      "[ 40.0, 39.0,  1.0,...] => 추정 죽음(확률 0.29) : 정답 생존 => X\n",
      "[ 45.0, 59.4,  1.0,...] => 추정 죽음(확률 0.41) : 정답 죽음 => O\n",
      "[ 16.0,  8.1,  0.0,...] => 추정 죽음(확률 0.30) : 정답 죽음 => O\n",
      "[ 20.0,  7.1,  0.0,...] => 추정 죽음(확률 0.24) : 정답 죽음 => O\n",
      "[ 28.0,  7.2,  1.0,...] => 추정 죽음(확률 0.18) : 정답 생존 => X\n",
      "[ 28.0,  7.8,  1.0,...] => 추정 죽음(확률 0.18) : 정답 죽음 => O\n",
      "[ 28.0, 15.5,  1.0,...] => 추정 죽음(확률 0.23) : 정답 죽음 => O\n",
      "[ 24.0, 37.0,  1.0,...] => 추정 죽음(확률 0.43) : 정답 죽음 => O\n",
      "[ 19.0, 10.2,  0.0,...] => 추정 죽음(확률 0.28) : 정답 죽음 => O\n",
      "[ 35.0, 26.3,  0.0,...] => 추정 죽음(확률 0.25) : 정답 생존 => X\n",
      "[ 23.0, 11.5,  0.0,...] => 추정 죽음(확률 0.25) : 정답 죽음 => O\n",
      "[ 28.0,  6.4,  0.0,...] => 추정 죽음(확률 0.17) : 정답 죽음 => O\n",
      "[ 28.0, 26.5,  0.0,...] => 추정 죽음(확률 0.34) : 정답 죽음 => O\n",
      "[ 58.0, 29.7,  0.0,...] => 추정 죽음(확률 0.10) : 정답 죽음 => O\n",
      "[ 25.0,  7.8,  0.0,...] => 추정 죽음(확률 0.20) : 정답 생존 => X\n",
      "[ 29.0,211.3,  1.0,...] => 추정 죽음(확률 0.50) : 정답 생존 => X\n",
      "[ 28.0, 51.9,  1.0,...] => 추정 죽음(확률 0.43) : 정답 생존 => X\n",
      "[ 31.0, 57.0,  0.0,...] => 추정 죽음(확률 0.42) : 정답 생존 => X\n",
      "[ 27.0,247.5,  1.0,...] => 추정 생존(확률 0.52) : 정답 죽음 => X\n",
      "[ 31.0, 52.0,  0.0,...] => 추정 죽음(확률 0.42) : 정답 죽음 => O\n",
      "[  0.2, 20.6,  1.0,...] => 추정 죽음(확률 0.46) : 정답 죽음 => O\n",
      "[ 28.0,  7.7,  0.0,...] => 추정 죽음(확률 0.18) : 정답 죽음 => O\n"
     ]
    }
   ],
   "source": [
    "tm.visualize(30)"
   ]
  },
  {
   "cell_type": "code",
   "execution_count": null,
   "metadata": {},
   "outputs": [],
   "source": []
  }
 ],
 "metadata": {
  "kernelspec": {
   "display_name": "base",
   "language": "python",
   "name": "python3"
  },
  "language_info": {
   "codemirror_mode": {
    "name": "ipython",
    "version": 3
   },
   "file_extension": ".py",
   "mimetype": "text/x-python",
   "name": "python",
   "nbconvert_exporter": "python",
   "pygments_lexer": "ipython3",
   "version": "3.11.10"
  }
 },
 "nbformat": 4,
 "nbformat_minor": 2
}
