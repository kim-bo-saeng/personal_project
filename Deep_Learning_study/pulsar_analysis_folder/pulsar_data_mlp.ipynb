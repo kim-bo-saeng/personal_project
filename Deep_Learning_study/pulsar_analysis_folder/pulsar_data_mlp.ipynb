{
 "cells": [
  {
   "cell_type": "code",
   "execution_count": 1,
   "metadata": {},
   "outputs": [],
   "source": [
    "# 필요한 모듈 불러오기\n",
    "import pandas as pd\n",
    "import numpy as np\n",
    "import csv\n",
    "import time\n",
    "\n",
    "# 난수 발생 패턴을 고정하기 위해 난수는 seed(1234)로 설정\n",
    "np.random.seed(1234)\n",
    "\n",
    "# 고정되지 않는 난수를 발생하기 위해서 randomize함수를 이용해 현재시간을 기준으로 난수를 발생하는 함수\n",
    "def randomize() :\n",
    "    np.random.seed(time.time)"
   ]
  },
  {
   "cell_type": "code",
   "execution_count": 2,
   "metadata": {},
   "outputs": [],
   "source": [
    "# 정규분포 난수값의 평균과 표준편차를 설정하여 가중치의 파라미터를 초기화 할때 사용한다\n",
    "RND_MEAN = 0\n",
    "RND_STD = 0.0030\n",
    "\n",
    "# 학습률을 설정(하이퍼파라미터)\n",
    "LEARNING_RATE = 0.001"
   ]
  },
  {
   "cell_type": "code",
   "execution_count": 3,
   "metadata": {},
   "outputs": [],
   "source": [
    "# 전체 함수 실행 함수\n",
    "def pulsar_exec(epoch_count=10, mb_size=10, report=1):\n",
    "    load_pulsar_dataset()\n",
    "    init_model()\n",
    "    train_and_test(epoch_count, mb_size, report)"
   ]
  },
  {
   "cell_type": "code",
   "execution_count": 4,
   "metadata": {},
   "outputs": [],
   "source": [
    "# 딥러닝에 활용할 데이터 불러오기 및 정제 과정\n",
    "def load_pulsar_dataset():\n",
    "    with open('Pulsar.csv') as csvfile:\n",
    "        csvreader = csv.reader(csvfile)\n",
    "        next(csvreader,None)\n",
    "        rows = []\n",
    "        for row in csvreader:\n",
    "            rows.append(row)\n",
    "\n",
    "    global data, input_cnt, output_cnt\n",
    "    input_cnt, output_cnt = 8, 1\n",
    "    data = np.asarray(rows,dtype='float32')"
   ]
  },
  {
   "cell_type": "code",
   "execution_count": 5,
   "metadata": {},
   "outputs": [],
   "source": [
    "global hidden_config\n",
    "\n",
    "def init_model():\n",
    "    if hidden_config is not None:\n",
    "        print('은닉 계층 {}개를 갖는 다층 퍼셉트론이 작동되었습니다.'.format(len(hidden_config)))\n",
    "        init_model_hiddens()\n",
    "    else:\n",
    "        print('은닉 계층 하나를 갖는 다층 퍼셉트론이 작동되었습니다.')\n",
    "        init_model_hidden1()\n",
    "\n",
    "def init_model_hidden1():\n",
    "    global pm_output, pm_hidden, input_cnt, output_cnt, hidden_cnt\n",
    "\n",
    "    pm_hidden = alloc_param_pair([input_cnt,hidden_cnt])\n",
    "    pm_output = alloc_param_pair([hidden_cnt, output_cnt])\n",
    "\n",
    "def init_model_hiddens():\n",
    "    global pm_output, pm_hiddens, input_cnt, output_cnt, hidden_config\n",
    "\n",
    "    pm_hiddens =[]\n",
    "    prev_cnt = input_cnt\n",
    "    \n",
    "    for hidden_cnt in hidden_config:\n",
    "        pm_hiddens.append(alloc_param_pair([prev_cnt, hidden_cnt]))\n",
    "        prev_cnt = hidden_cnt\n",
    "\n",
    "    pm_output = alloc_param_pair([prev_cnt, output_cnt])\n",
    "    \n",
    "def alloc_param_pair(shape):\n",
    "    weight = np.random.normal(RND_MEAN, RND_STD,shape) \n",
    "    bias = np.zeros(shape[-1])\n",
    "    return {'w':weight, 'b':bias}"
   ]
  },
  {
   "cell_type": "code",
   "execution_count": 6,
   "metadata": {},
   "outputs": [],
   "source": [
    "def train_and_test(epoch_count, mb_size, report): \n",
    "    step_count = arrange_data(mb_size)\n",
    "    test_x, test_y = get_test_data()\n",
    "    for epoch in range(epoch_count):\n",
    "        losses, accs = [], []\n",
    "        for n in range(step_count):\n",
    "            train_x, train_y = get_train_data(mb_size, n)\n",
    "            loss, acc = run_train(train_x, train_y)\n",
    "            losses.append(loss)\n",
    "            accs.append(acc)\n",
    "        if report > 0 and (epoch+1) % report == 0:\n",
    "            acc = run_test(test_x, test_y)\n",
    "            print('Epoch {}: loss ={:5.3f}, accuracy={:5.3f}/{:5.3f}'. \\\n",
    "                  format(epoch+1, np.mean(losses), np.mean(accs), acc))\n",
    "    final_acc = run_test(test_x, test_y)\n",
    "    print('\\nFinal Test: final accuracy = {:5.3f}'.format(final_acc))\n",
    "\n",
    "def arrange_data(mb_size):\n",
    "    global data, shuffle_map, test_begin_idx\n",
    "    shuffle_map = np.arange(data.shape[0])\n",
    "    np.random.shuffle(shuffle_map)\n",
    "    step_count = int(data.shape[0] * 0.8) // mb_size\n",
    "    test_begin_idx = step_count * mb_size\n",
    "    return step_count\n",
    "\n",
    "def get_train_data(mb_size, nth):\n",
    "    global data, shuffle_map, test_begin_idx, output_cnt\n",
    "    if nth == 0:\n",
    "        np.random.shuffle(shuffle_map[:test_begin_idx])\n",
    "    train_data = data[shuffle_map[mb_size*nth:mb_size*(nth+1)]]\n",
    "    return train_data[:, :-output_cnt], train_data[:, -output_cnt:]\n",
    "\n",
    "def get_test_data():\n",
    "    global data, shuffle_map, test_begin_idx, output_cnt\n",
    "    test_data = data[shuffle_map[test_begin_idx:]]\n",
    "    return test_data[:, :-output_cnt], test_data[:, -output_cnt:]\n",
    "\n",
    "def run_train(x, y):\n",
    "    output, aux_nn = forward_neuralnet(x)\n",
    "    loss, aux_pp = forward_postproc(output, y)\n",
    "    accuracy = eval_accuracy(output, y)\n",
    "    G_loss = 1.0\n",
    "    G_output = backprop_postproc(G_loss, aux_pp)\n",
    "    backprop_neuralnet(G_output, aux_nn)\n",
    "    return loss, accuracy\n",
    "\n",
    "def run_test(x, y):\n",
    "    output, _ = forward_neuralnet(x)\n",
    "    accuracy = eval_accuracy(output, y)\n",
    "    return accuracy"
   ]
  },
  {
   "cell_type": "code",
   "execution_count": 7,
   "metadata": {},
   "outputs": [],
   "source": [
    "def set_hidden(info):\n",
    "    global hidden_cnt, hidden_config\n",
    "    if isinstance(info, int):\n",
    "        hidden_cnt = info\n",
    "        hidden_config = None\n",
    "    else:\n",
    "        hidden_config = info"
   ]
  },
  {
   "cell_type": "code",
   "execution_count": null,
   "metadata": {},
   "outputs": [],
   "source": [
    "def forward_neuralnet(x):\n",
    "    if hidden_config is not None:\n",
    "        return forward_neuralnet_hiddens(x)\n",
    "    else:\n",
    "        return forward_neuralnet_hidden1(x)\n",
    "\n",
    "def forward_neuralnet_hidden1(x):\n",
    "    global pm_output, pm_hidden\n",
    "\n",
    "    hidden = relu(np.matmul(x,pm_hidden['w']) + pm_hidden['b'])\n",
    "    output = np.matmul(hidden, pm_output['w']) + pm_output['b']\n",
    "    return output, [x,hidden]\n",
    "\n",
    "def forward_neuralnet_hiddens(x):\n",
    "    global pm_output, pm_hiddens\n",
    "\n",
    "    hidden = x\n",
    "    hiddens = [x]\n",
    "\n",
    "    for pm_hidden in pm_hiddens:\n",
    "        hidden = relu(np.matmul(hidden, pm_hidden['w']) + pm_hidden['b'])\n",
    "        hiddens.append(hidden)\n",
    "\n",
    "    output = np.matmul(hidden, pm_output['w']) + pm_output['b']\n",
    "\n",
    "    return output, hiddens"
   ]
  },
  {
   "cell_type": "code",
   "execution_count": null,
   "metadata": {},
   "outputs": [],
   "source": [
    "def backprop_neuralnet(G_output, hiddens):\n",
    "    if hidden_config is not None:\n",
    "        backprop_neuralnet_hiddens(G_output, hiddens)\n",
    "    else:\n",
    "        backprop_neuralnet_hidden1(G_output, hiddens)\n",
    "\n",
    "def backprop_neuralnet_hidden1(G_output, aux):\n",
    "    global pm_output, pm_hidden\n",
    "\n",
    "    x, hidden = aux\n",
    "\n",
    "    g_output_w_out = hidden.transpose()\n",
    "    G_w_out = np.matmul(g_output_w_out, G_output)\n",
    "    G_b_out = np.sum(G_output, axis = 0)\n",
    "\n",
    "    g_output_hidden = pm_output['w'].transpose()\n",
    "    G_hidden = np.matmul(G_output, g_output_hidden)\n",
    "\n",
    "    pm_output['w'] -= LEARNING_RATE * G_w_out\n",
    "    pm_output['b'] -= LEARNING_RATE * G_b_out\n",
    "\n",
    "    G_hidden = G_hidden * relu_derv(hidden)\n",
    "\n",
    "    g_hidden_w_hid = x.transpose()\n",
    "    G_w_hid = np.matmul(g_hidden_w_hid, G_hidden)\n",
    "    G_b_hid = np.sum(G_hidden, axis=0)\n",
    "\n",
    "    pm_hidden['w'] -= LEARNING_RATE * G_w_hid\n",
    "    pm_hidden['b'] -= LEARNING_RATE * G_b_hid\n",
    "    \n",
    "def backprop_neuralnet_hiddens(G_output, aux):\n",
    "    global pm_output, pm_hiddens\n",
    "\n",
    "    hiddens = aux\n",
    "\n",
    "    g_output_w_out = hiddens[-1].transpose()\n",
    "    G_w_out = np.matmul(g_output_w_out, G_output)\n",
    "    G_b_out = np.sum(G_output, axis=0)\n",
    "\n",
    "    g_output_hidden = pm_output['w'].transpose()\n",
    "    G_hidden = np.matmul(G_output, g_output_hidden)\n",
    "\n",
    "    pm_output['w'] -= LEARNING_RATE * G_w_out\n",
    "    pm_output['b'] -= LEARNING_RATE * G_b_out\n",
    "\n",
    "    for n in reversed(range(len(pm_hiddens))):\n",
    "        G_hidden = G_hidden * relu_derv(hiddens[n+1])\n",
    "\n",
    "        g_hidden_w_hid = hiddens[n].transpose()\n",
    "        G_w_hid = np.matmul(g_hidden_w_hid, G_hidden)\n",
    "        G_b_hid = np.sum(G_hidden, axis=0)\n",
    "\n",
    "        g_hidden_hidden = pm_hiddens[n]['w'].transpose()\n",
    "        G_hidden = np.matmul(G_hidden, g_hidden_hidden)\n",
    "\n",
    "        pm_hiddens[n]['w'] -= LEARNING_RATE * G_w_hid\n",
    "        pm_hiddens[n]['b'] -= LEARNING_RATE * G_b_hid\n",
    "\n",
    "def relu_derv(y):\n",
    "    return np.sign(y)"
   ]
  },
  {
   "cell_type": "code",
   "execution_count": 10,
   "metadata": {},
   "outputs": [],
   "source": [
    "def forward_postproc(output, y):\n",
    "    entropy = sigmoid_cross_entropy_with_logits(y, output)\n",
    "    loss = np.mean(entropy)\n",
    "    return loss, [y, output, entropy]\n",
    "\n",
    "def backprop_postproc(G_loss, aux):\n",
    "    y, output, entropy = aux\n",
    "\n",
    "    g_loss_entropy = 1.0 / np.prod(entropy.shape)\n",
    "    g_entropy_output = sigmoid_cross_entropy_with_logits_derv(y, output)\n",
    "\n",
    "    G_entropy = g_loss_entropy * G_loss\n",
    "    G_output = g_entropy_output * G_entropy\n",
    "\n",
    "    return G_output"
   ]
  },
  {
   "cell_type": "code",
   "execution_count": 11,
   "metadata": {},
   "outputs": [],
   "source": [
    "def eval_accuracy(output, y):\n",
    "    estimate = np.greater(output, 0)\n",
    "    answer = np.greater(y, 0.5)\n",
    "    correct = np.equal(estimate, answer)\n",
    "    return np.mean(correct)"
   ]
  },
  {
   "cell_type": "code",
   "execution_count": 12,
   "metadata": {},
   "outputs": [],
   "source": [
    "def relu(x):\n",
    "    return np.maximum(x,0)\n",
    "\n",
    "def sigmoid(x):\n",
    "    return np.exp(-relu(-x)) / (1.0 + np.exp(-np.abs(x)))\n",
    "\n",
    "def sigmoid_derv(x,y):\n",
    "    return y * (1-y)\n",
    "\n",
    "def sigmoid_cross_entropy_with_logits(z,x):\n",
    "    return relu(x) -x * z + np.log(1 + np.exp(-np.abs(x)))\n",
    "\n",
    "def sigmoid_cross_entropy_with_logits_derv(z,x):\n",
    "    return -z + sigmoid(x)"
   ]
  },
  {
   "cell_type": "code",
   "execution_count": 13,
   "metadata": {},
   "outputs": [
    {
     "name": "stdout",
     "output_type": "stream",
     "text": [
      "은닉 계층 하나를 갖는 다층 퍼셉트론이 작동되었습니다.\n",
      "Epoch 10: loss =0.094, accuracy=0.972/0.972\n",
      "Epoch 20: loss =0.091, accuracy=0.973/0.974\n",
      "Epoch 30: loss =0.091, accuracy=0.973/0.974\n",
      "Epoch 40: loss =0.089, accuracy=0.974/0.974\n",
      "Epoch 50: loss =0.089, accuracy=0.974/0.975\n",
      "\n",
      "Final Test: final accuracy = 0.975\n"
     ]
    }
   ],
   "source": [
    "set_hidden(6)\n",
    "pulsar_exec(epoch_count=50, mb_size=10, report=10)"
   ]
  },
  {
   "cell_type": "code",
   "execution_count": 14,
   "metadata": {},
   "outputs": [
    {
     "name": "stdout",
     "output_type": "stream",
     "text": [
      "은닉 계층 1개를 갖는 다층 퍼셉트론이 작동되었습니다.\n",
      "Epoch 10: loss =0.090, accuracy=0.973/0.969\n",
      "Epoch 20: loss =0.087, accuracy=0.974/0.969\n",
      "Epoch 30: loss =0.085, accuracy=0.975/0.973\n",
      "Epoch 40: loss =0.083, accuracy=0.976/0.972\n",
      "Epoch 50: loss =0.083, accuracy=0.976/0.972\n",
      "\n",
      "Final Test: final accuracy = 0.972\n"
     ]
    }
   ],
   "source": [
    "set_hidden([6])\n",
    "pulsar_exec(epoch_count=50, mb_size=10, report=10)"
   ]
  },
  {
   "cell_type": "code",
   "execution_count": 15,
   "metadata": {},
   "outputs": [
    {
     "name": "stdout",
     "output_type": "stream",
     "text": [
      "은닉 계층 2개를 갖는 다층 퍼셉트론이 작동되었습니다.\n",
      "Epoch 40: loss =0.090, accuracy=0.973/0.972\n",
      "Epoch 80: loss =0.086, accuracy=0.975/0.974\n",
      "Epoch 120: loss =0.084, accuracy=0.976/0.971\n",
      "Epoch 160: loss =0.081, accuracy=0.976/0.972\n",
      "Epoch 200: loss =0.081, accuracy=0.976/0.973\n",
      "\n",
      "Final Test: final accuracy = 0.973\n"
     ]
    }
   ],
   "source": [
    "set_hidden([12,6])\n",
    "pulsar_exec(epoch_count=200, mb_size=10, report=40)"
   ]
  }
 ],
 "metadata": {
  "kernelspec": {
   "display_name": "base",
   "language": "python",
   "name": "python3"
  },
  "language_info": {
   "codemirror_mode": {
    "name": "ipython",
    "version": 3
   },
   "file_extension": ".py",
   "mimetype": "text/x-python",
   "name": "python",
   "nbconvert_exporter": "python",
   "pygments_lexer": "ipython3",
   "version": "3.11.10"
  }
 },
 "nbformat": 4,
 "nbformat_minor": 2
}
