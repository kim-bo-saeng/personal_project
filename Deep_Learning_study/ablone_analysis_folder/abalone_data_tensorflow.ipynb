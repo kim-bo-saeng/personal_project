{
 "cells": [
  {
   "cell_type": "code",
   "execution_count": null,
   "metadata": {},
   "outputs": [],
   "source": [
    "import tensorflow as tf\n",
    "import numpy as np\n",
    "import pandas as pd\n",
    "from sklearn.model_selection import train_test_split\n",
    "from sklearn.preprocessing import OneHotEncoder, StandardScaler"
   ]
  },
  {
   "cell_type": "code",
   "execution_count": 5,
   "metadata": {},
   "outputs": [],
   "source": [
    "# 데이터 로드 및 전처리\n",
    "data = pd.read_csv('abalone.csv')\n",
    "data.columns = ['Sex', 'Length', 'Diameter', 'Height', 'WholeWeight', 'ShuckedWeight', \n",
    "                'VisceraWeight', 'ShellWeight', 'Rings']"
   ]
  },
  {
   "cell_type": "code",
   "execution_count": 15,
   "metadata": {},
   "outputs": [],
   "source": [
    "# 성별 원-핫 인코딩\n",
    "encoder = OneHotEncoder(sparse_output=False)\n",
    "sex_encoded = encoder.fit_transform(data[['Sex']])\n",
    "\n",
    "# 피처와 라벨 분리\n",
    "features = np.concatenate([sex_encoded, data.iloc[:, 1:-1].values], axis=1)\n",
    "labels = data['Rings'].values.reshape(-1, 1)  # 텐서플로와 호환되도록 차원 추가\n",
    "\n",
    "# 정규화\n",
    "scaler = StandardScaler()\n",
    "features = scaler.fit_transform(features)\n",
    "\n",
    "# 데이터 분리\n",
    "x_train, x_test, y_train, y_test = train_test_split(features, labels, test_size=0.2, random_state=42)\n",
    "\n",
    "# 입력 데이터를 float32로 변환\n",
    "x_train = x_train.astype('float32')\n",
    "x_test = x_test.astype('float32')\n",
    "y_train = y_train.astype('float32')\n",
    "y_test = y_test.astype('float32')\n",
    "\n",
    "# 입력 데이터 및 출력 데이터의 크기\n",
    "input_dim = x_train.shape[1]"
   ]
  },
  {
   "cell_type": "code",
   "execution_count": 16,
   "metadata": {},
   "outputs": [],
   "source": [
    "# 모델 정의\n",
    "class AbaloneModel(tf.Module):\n",
    "    def __init__(self):\n",
    "        self.w1 = tf.Variable(tf.random.normal([input_dim, 64], stddev=0.03, dtype=tf.float32), name='w1')\n",
    "        self.b1 = tf.Variable(tf.zeros([64], dtype=tf.float32), name='b1')\n",
    "        self.w2 = tf.Variable(tf.random.normal([64, 32], stddev=0.03, dtype=tf.float32), name='w2')\n",
    "        self.b2 = tf.Variable(tf.zeros([32], dtype=tf.float32), name='b2')\n",
    "        self.w3 = tf.Variable(tf.random.normal([32, 1], stddev=0.03, dtype=tf.float32), name='w3')\n",
    "        self.b3 = tf.Variable(tf.zeros([1], dtype=tf.float32), name='b3')\n",
    "\n",
    "\n",
    "    def __call__(self, x):\n",
    "        h1 = tf.nn.relu(tf.matmul(x, self.w1) + self.b1)\n",
    "        h2 = tf.nn.relu(tf.matmul(h1, self.w2) + self.b2)\n",
    "        return tf.matmul(h2, self.w3) + self.b3\n",
    "\n",
    "# 모델 인스턴스 생성\n",
    "model = AbaloneModel()\n",
    "\n",
    "# 손실 함수 정의 (Mean Squared Error)\n",
    "def mse_loss(y_pred, y_true):\n",
    "    return tf.reduce_mean(tf.square(y_pred - y_true))\n",
    "\n",
    "# 옵티마이저 정의\n",
    "optimizer = tf.optimizers.Adam(learning_rate=0.001)"
   ]
  },
  {
   "cell_type": "code",
   "execution_count": 17,
   "metadata": {},
   "outputs": [],
   "source": [
    "# 훈련 루프\n",
    "def train_step(x_batch, y_batch):\n",
    "    with tf.GradientTape() as tape:\n",
    "        predictions = model(x_batch)\n",
    "        loss = mse_loss(predictions, y_batch)\n",
    "    gradients = tape.gradient(loss, [model.w1, model.b1, model.w2, model.b2, model.w3, model.b3])\n",
    "    optimizer.apply_gradients(zip(gradients, [model.w1, model.b1, model.w2, model.b2, model.w3, model.b3]))\n",
    "    return loss"
   ]
  },
  {
   "cell_type": "code",
   "execution_count": 18,
   "metadata": {},
   "outputs": [],
   "source": [
    "# 데이터셋 생성 (미니배치 처리)\n",
    "train_dataset = tf.data.Dataset.from_tensor_slices((x_train, y_train)).shuffle(1000).batch(32)\n",
    "test_dataset = tf.data.Dataset.from_tensor_slices((x_test, y_test)).batch(32)"
   ]
  },
  {
   "cell_type": "code",
   "execution_count": 19,
   "metadata": {},
   "outputs": [
    {
     "name": "stdout",
     "output_type": "stream",
     "text": [
      "Epoch 1/50, Loss: 2.3139\n",
      "Epoch 2/50, Loss: 0.6036\n",
      "Epoch 3/50, Loss: 0.2389\n",
      "Epoch 4/50, Loss: 0.1794\n",
      "Epoch 5/50, Loss: 0.1647\n",
      "Epoch 6/50, Loss: 0.1597\n",
      "Epoch 7/50, Loss: 0.1569\n",
      "Epoch 8/50, Loss: 0.1547\n",
      "Epoch 9/50, Loss: 0.1517\n",
      "Epoch 10/50, Loss: 0.1510\n",
      "Epoch 11/50, Loss: 0.1522\n",
      "Epoch 12/50, Loss: 0.1494\n",
      "Epoch 13/50, Loss: 0.1482\n",
      "Epoch 14/50, Loss: 0.1479\n",
      "Epoch 15/50, Loss: 0.1476\n",
      "Epoch 16/50, Loss: 0.1465\n",
      "Epoch 17/50, Loss: 0.1472\n",
      "Epoch 18/50, Loss: 0.1469\n",
      "Epoch 19/50, Loss: 0.1456\n",
      "Epoch 20/50, Loss: 0.1451\n",
      "Epoch 21/50, Loss: 0.1444\n",
      "Epoch 22/50, Loss: 0.1443\n",
      "Epoch 23/50, Loss: 0.1439\n",
      "Epoch 24/50, Loss: 0.1443\n",
      "Epoch 25/50, Loss: 0.1431\n",
      "Epoch 26/50, Loss: 0.1427\n",
      "Epoch 27/50, Loss: 0.1426\n",
      "Epoch 28/50, Loss: 0.1426\n",
      "Epoch 29/50, Loss: 0.1433\n",
      "Epoch 30/50, Loss: 0.1417\n",
      "Epoch 31/50, Loss: 0.1415\n",
      "Epoch 32/50, Loss: 0.1410\n",
      "Epoch 33/50, Loss: 0.1440\n",
      "Epoch 34/50, Loss: 0.1413\n",
      "Epoch 35/50, Loss: 0.1405\n",
      "Epoch 36/50, Loss: 0.1409\n",
      "Epoch 37/50, Loss: 0.1402\n",
      "Epoch 38/50, Loss: 0.1401\n",
      "Epoch 39/50, Loss: 0.1401\n",
      "Epoch 40/50, Loss: 0.1383\n",
      "Epoch 41/50, Loss: 0.1393\n",
      "Epoch 42/50, Loss: 0.1400\n",
      "Epoch 43/50, Loss: 0.1398\n",
      "Epoch 44/50, Loss: 0.1392\n",
      "Epoch 45/50, Loss: 0.1399\n",
      "Epoch 46/50, Loss: 0.1395\n",
      "Epoch 47/50, Loss: 0.1398\n",
      "Epoch 48/50, Loss: 0.1400\n",
      "Epoch 49/50, Loss: 0.1404\n",
      "Epoch 50/50, Loss: 0.1403\n"
     ]
    }
   ],
   "source": [
    "# 모델 학습\n",
    "epochs = 50\n",
    "for epoch in range(epochs):\n",
    "    epoch_loss = 0.0\n",
    "    for x_batch, y_batch in train_dataset:\n",
    "        batch_loss = train_step(x_batch, y_batch)\n",
    "        epoch_loss += batch_loss.numpy()\n",
    "    print(f\"Epoch {epoch + 1}/{epochs}, Loss: {epoch_loss / len(x_train):.4f}\")"
   ]
  },
  {
   "cell_type": "code",
   "execution_count": 20,
   "metadata": {},
   "outputs": [
    {
     "name": "stdout",
     "output_type": "stream",
     "text": [
      "Test Loss: 0.1415\n"
     ]
    }
   ],
   "source": [
    "# 평가\n",
    "def evaluate(dataset):\n",
    "    total_loss = 0.0\n",
    "    for x_batch, y_batch in dataset:\n",
    "        predictions = model(x_batch)\n",
    "        loss = mse_loss(predictions, y_batch)\n",
    "        total_loss += loss.numpy()\n",
    "    return total_loss / len(x_test)\n",
    "\n",
    "test_loss = evaluate(test_dataset)\n",
    "print(f\"Test Loss: {test_loss:.4f}\")"
   ]
  },
  {
   "cell_type": "code",
   "execution_count": null,
   "metadata": {},
   "outputs": [],
   "source": []
  },
  {
   "cell_type": "code",
   "execution_count": null,
   "metadata": {},
   "outputs": [],
   "source": []
  }
 ],
 "metadata": {
  "kernelspec": {
   "display_name": "base",
   "language": "python",
   "name": "python3"
  },
  "language_info": {
   "codemirror_mode": {
    "name": "ipython",
    "version": 3
   },
   "file_extension": ".py",
   "mimetype": "text/x-python",
   "name": "python",
   "nbconvert_exporter": "python",
   "pygments_lexer": "ipython3",
   "version": "3.11.10"
  }
 },
 "nbformat": 4,
 "nbformat_minor": 2
}
