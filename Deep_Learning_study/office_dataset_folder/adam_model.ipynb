{
 "cells": [
  {
   "cell_type": "code",
   "execution_count": 1,
   "metadata": {},
   "outputs": [],
   "source": [
    "%run ../deeplearning_class_code_folder/mlp_model_class.ipynb"
   ]
  },
  {
   "cell_type": "code",
   "execution_count": 2,
   "metadata": {},
   "outputs": [],
   "source": [
    "class AdamModel(MlpModel):\n",
    "    def __init__(self, name, dataset, hconfigs):\n",
    "        self.use_adam = False\n",
    "        super(AdamModel, self).__init__(name, dataset, hconfigs)"
   ]
  },
  {
   "cell_type": "code",
   "execution_count": 4,
   "metadata": {},
   "outputs": [],
   "source": [
    "def adam_backprop_layer(self, G_y, hconfig, pm, aux):\n",
    "    x,y = aux\n",
    "    if hconfig is not None: G_y = relu_derv(y) * G_y\n",
    "\n",
    "    g_y_weight = x.transpose()\n",
    "    g_y_input = pm['w'].transpose()\n",
    "\n",
    "    G_weight = np.matmul(g_y_weight, G_y)\n",
    "    G_bias = np.sum(G_y, axis=0)\n",
    "    G_input = np.matmul(G_y, g_y_input)\n",
    "\n",
    "    self.update_param(pm, 'w', G_weight)\n",
    "    self.update_param(pm, 'b', G_bias)\n",
    "\n",
    "    return G_input\n",
    "\n",
    "AdamModel.backprop_layer = adam_backprop_layer"
   ]
  },
  {
   "cell_type": "code",
   "execution_count": 5,
   "metadata": {},
   "outputs": [],
   "source": [
    "def adam_update_param(self, pm, key, delta):\n",
    "    if self.use_adam:\n",
    "        delta = self.eval_adam_delta(pm, key, delta)\n",
    "\n",
    "    pm[key] -= self.learning_rate * delta\n",
    "\n",
    "AdamModel.update_param = adam_update_param"
   ]
  },
  {
   "cell_type": "code",
   "execution_count": null,
   "metadata": {},
   "outputs": [],
   "source": []
  }
 ],
 "metadata": {
  "kernelspec": {
   "display_name": "base",
   "language": "python",
   "name": "python3"
  },
  "language_info": {
   "codemirror_mode": {
    "name": "ipython",
    "version": 3
   },
   "file_extension": ".py",
   "mimetype": "text/x-python",
   "name": "python",
   "nbconvert_exporter": "python",
   "pygments_lexer": "ipython3",
   "version": "3.10.9"
  }
 },
 "nbformat": 4,
 "nbformat_minor": 2
}
