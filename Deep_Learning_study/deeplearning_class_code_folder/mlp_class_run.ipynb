{
 "cells": [
  {
   "cell_type": "code",
   "execution_count": 1,
   "metadata": {},
   "outputs": [],
   "source": [
    "%run mlp_model_class.ipynb\n",
    "%run dataset_chap123.ipynb\n",
    "%run dataset_flower.ipynb"
   ]
  },
  {
   "cell_type": "code",
   "execution_count": 2,
   "metadata": {},
   "outputs": [
    {
     "name": "stdout",
     "output_type": "stream",
     "text": [
      "Model abalone_model train started:\n",
      "    Epoch 2: cost=8.191, accuracy=0.733/0.711 (0/0 secs)\n",
      "    Epoch 4: cost=7.392, accuracy=0.744/0.694 (0/0 secs)\n",
      "    Epoch 6: cost=7.247, accuracy=0.747/0.737 (0/0 secs)\n",
      "    Epoch 8: cost=7.139, accuracy=0.748/0.725 (0/0 secs)\n",
      "    Epoch 10: cost=7.054, accuracy=0.751/0.746 (0/0 secs)\n",
      "Model abalone_model train ended in 0 secs:\n",
      "Model abalone_model test report: accuracy = 0.727, (0 secs)\n",
      "\n",
      "Model abalone_model Visualization\n",
      "[0.00,0.00,1.00,0.70,0.53,0.17,1.56,0.61,0.39,0.44] => 추정 12.9 : 정답 10.0\n",
      "[0.00,1.00,0.00,0.46,0.38,0.12,0.48,0.22,0.10,0.17] => 추정  8.7 : 정답  7.0\n",
      "[0.00,0.00,1.00,0.58,0.45,0.14,1.14,0.56,0.22,0.29] => 추정 11.3 : 정답  8.0\n"
     ]
    }
   ],
   "source": [
    "ad = AbaloneDataset()\n",
    "am = MlpModel('abalone_model', ad, [])\n",
    "am.exec_all(epoch_count=10,report=2)"
   ]
  },
  {
   "cell_type": "code",
   "execution_count": null,
   "metadata": {},
   "outputs": [],
   "source": []
  }
 ],
 "metadata": {
  "kernelspec": {
   "display_name": "base",
   "language": "python",
   "name": "python3"
  },
  "language_info": {
   "codemirror_mode": {
    "name": "ipython",
    "version": 3
   },
   "file_extension": ".py",
   "mimetype": "text/x-python",
   "name": "python",
   "nbconvert_exporter": "python",
   "pygments_lexer": "ipython3",
   "version": "3.11.10"
  }
 },
 "nbformat": 4,
 "nbformat_minor": 2
}
