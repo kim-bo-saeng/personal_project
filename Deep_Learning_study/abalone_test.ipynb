{
 "cells": [
  {
   "cell_type": "code",
   "execution_count": 14,
   "metadata": {},
   "outputs": [],
   "source": [
    "%run abalone_data.ipynb"
   ]
  },
  {
   "cell_type": "code",
   "execution_count": 15,
   "metadata": {},
   "outputs": [
    {
     "name": "stdout",
     "output_type": "stream",
     "text": [
      "Epoch 1: loss =33.875, accuracy=0.557/0.812\n",
      "Epoch 2: loss =8.226, accuracy=0.820/0.814\n",
      "Epoch 3: loss =7.582, accuracy=0.812/0.809\n",
      "Epoch 4: loss =7.475, accuracy=0.808/0.811\n",
      "Epoch 5: loss =7.395, accuracy=0.810/0.809\n",
      "Epoch 6: loss =7.328, accuracy=0.808/0.810\n",
      "Epoch 7: loss =7.269, accuracy=0.808/0.811\n",
      "Epoch 8: loss =7.217, accuracy=0.808/0.812\n",
      "Epoch 9: loss =7.175, accuracy=0.810/0.810\n",
      "Epoch 10: loss =7.135, accuracy=0.809/0.810\n",
      "\n",
      "Final Test: final accuracy = 0.810\n"
     ]
    }
   ],
   "source": [
    "abalone_exec()"
   ]
  },
  {
   "cell_type": "code",
   "execution_count": 16,
   "metadata": {},
   "outputs": [
    {
     "name": "stdout",
     "output_type": "stream",
     "text": [
      "[[1.02697603]\n",
      " [1.47450981]\n",
      " [1.66960135]\n",
      " [2.04468668]\n",
      " [1.62513525]\n",
      " [0.60292627]\n",
      " [2.39993815]\n",
      " [0.54107313]\n",
      " [0.46878034]\n",
      " [1.01969382]]\n",
      "[4.16894769]\n"
     ]
    }
   ],
   "source": [
    "print(weight)\n",
    "print(bias)"
   ]
  },
  {
   "cell_type": "code",
   "execution_count": null,
   "metadata": {},
   "outputs": [],
   "source": []
  }
 ],
 "metadata": {
  "kernelspec": {
   "display_name": "base",
   "language": "python",
   "name": "python3"
  },
  "language_info": {
   "codemirror_mode": {
    "name": "ipython",
    "version": 3
   },
   "file_extension": ".py",
   "mimetype": "text/x-python",
   "name": "python",
   "nbconvert_exporter": "python",
   "pygments_lexer": "ipython3",
   "version": "3.11.5"
  }
 },
 "nbformat": 4,
 "nbformat_minor": 2
}
